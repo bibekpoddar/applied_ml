{
    "nbformat_minor": 2,
    "cells": [
        {
            "metadata": {},
            "cell_type": "markdown",
            "source": [
                "# Exercise 7: Clustering the fish data\n",
                "\n",
                "Now use your standardization and clustering pipeline from the previous exercise to cluster the fish by their measurements, and then create a cross-tabulation to compare the cluster labels with the fish species."
            ]
        },
        {
            "metadata": {},
            "cell_type": "markdown",
            "source": [
                "From the course _Transition to Data Science_. [Buy the entire course for just $10](https://www.udemy.com/transition-to-data-science-in-python/?couponCode=CLUSTER-NBS) for many more exercises and helpful video lectures."
            ]
        },
        {
            "metadata": {},
            "cell_type": "markdown",
            "source": [
                "**Step 1:** Load the dataset, extracting the species of the fish as a list `species` _(done for you)_"
            ]
        },
        {
            "outputs": [],
            "execution_count": 11,
            "metadata": {
                "collapsed": true,
                "exercise": false
            },
            "cell_type": "code",
            "source": [
                "import pandas as pd\n",
                "\n",
                "df = pd.read_csv('../datasets/fish.csv')\n",
                "\n",
                "# remove the species from the DataFrame so only the measurements are left\n",
                "species = list(df['species'])\n",
                "del df['species']"
            ]
        },
        {
            "metadata": {},
            "cell_type": "markdown",
            "source": [
                "**Step 2:** Build the pipeline as in the previous exercise _(filled in for you)._"
            ]
        },
        {
            "outputs": [],
            "execution_count": 12,
            "metadata": {
                "collapsed": true
            },
            "cell_type": "code",
            "source": [
                "samples = df.values\n",
                "\n",
                "from sklearn.pipeline import make_pipeline\n",
                "from sklearn.preprocessing import StandardScaler\n",
                "from sklearn.cluster import KMeans\n",
                "\n",
                "scaler = StandardScaler()\n",
                "kmeans = KMeans(n_clusters=4)\n",
                "pipeline = make_pipeline(scaler, kmeans)"
            ]
        },
        {
            "metadata": {},
            "cell_type": "markdown",
            "source": [
                "**Step 3:** Fit the pipeline to the fish measurements `samples`."
            ]
        },
        {
            "outputs": [
                {
                    "execution_count": 13,
                    "metadata": {},
                    "data": {
                        "text/plain": [
                            "Pipeline(steps=[('standardscaler', StandardScaler(copy=True, with_mean=True, with_std=True)), ('kmeans', KMeans(algorithm='auto', copy_x=True, init='k-means++', max_iter=300,\n",
                            "    n_clusters=4, n_init=10, n_jobs=1, precompute_distances='auto',\n",
                            "    random_state=None, tol=0.0001, verbose=0))])"
                        ]
                    },
                    "output_type": "execute_result"
                }
            ],
            "execution_count": 13,
            "metadata": {
                "collapsed": false
            },
            "cell_type": "code",
            "source": [
                "pipeline.fit(samples)"
            ]
        },
        {
            "metadata": {},
            "cell_type": "markdown",
            "source": [
                "**Step 4:** Obtain the cluster labels for `samples` by using the `.predict()` method of `pipeline`, assigning the result to `labels`."
            ]
        },
        {
            "outputs": [],
            "execution_count": 14,
            "metadata": {
                "collapsed": true
            },
            "cell_type": "code",
            "source": [
                "labels = pipeline.predict(samples)"
            ]
        },
        {
            "metadata": {},
            "cell_type": "markdown",
            "source": [
                "**Step 5:** Using `pd.DataFrame()`, create a DataFrame `df` with two columns named `'labels'` and `'species'`, using `labels` and `species`, respectively, for the column values."
            ]
        },
        {
            "outputs": [],
            "execution_count": 8,
            "metadata": {
                "collapsed": true
            },
            "cell_type": "code",
            "source": [
                "df = pd.DataFrame({'labels': labels, 'species': species})"
            ]
        },
        {
            "metadata": {},
            "cell_type": "markdown",
            "source": [
                "**Step 6:** Using `pd.crosstab()`, create a cross-tabulation `ct` of `df['labels']` and `df['species']`."
            ]
        },
        {
            "outputs": [],
            "execution_count": 9,
            "metadata": {
                "collapsed": true
            },
            "cell_type": "code",
            "source": [
                "ct = pd.crosstab(df['labels'], df['species'])"
            ]
        },
        {
            "metadata": {},
            "cell_type": "markdown",
            "source": [
                "**Step 7:** Display your cross-tabulation, and check out how good your clustering is!"
            ]
        },
        {
            "outputs": [
                {
                    "execution_count": 10,
                    "metadata": {},
                    "data": {
                        "text/plain": [
                            "species  Bream  Pike  Roach  Smelt\n",
                            "labels                            \n",
                            "0            1     0     19      1\n",
                            "1           33     0      1      0\n",
                            "2            0     0      0     13\n",
                            "3            0    17      0      0"
                        ],
                        "text/html": [
                            "<div>\n",
                            "<style>\n",
                            "    .dataframe thead tr:only-child th {\n",
                            "        text-align: right;\n",
                            "    }\n",
                            "\n",
                            "    .dataframe thead th {\n",
                            "        text-align: left;\n",
                            "    }\n",
                            "\n",
                            "    .dataframe tbody tr th {\n",
                            "        vertical-align: top;\n",
                            "    }\n",
                            "</style>\n",
                            "<table border=\"1\" class=\"dataframe\">\n",
                            "  <thead>\n",
                            "    <tr style=\"text-align: right;\">\n",
                            "      <th>species</th>\n",
                            "      <th>Bream</th>\n",
                            "      <th>Pike</th>\n",
                            "      <th>Roach</th>\n",
                            "      <th>Smelt</th>\n",
                            "    </tr>\n",
                            "    <tr>\n",
                            "      <th>labels</th>\n",
                            "      <th></th>\n",
                            "      <th></th>\n",
                            "      <th></th>\n",
                            "      <th></th>\n",
                            "    </tr>\n",
                            "  </thead>\n",
                            "  <tbody>\n",
                            "    <tr>\n",
                            "      <th>0</th>\n",
                            "      <td>1</td>\n",
                            "      <td>0</td>\n",
                            "      <td>19</td>\n",
                            "      <td>1</td>\n",
                            "    </tr>\n",
                            "    <tr>\n",
                            "      <th>1</th>\n",
                            "      <td>33</td>\n",
                            "      <td>0</td>\n",
                            "      <td>1</td>\n",
                            "      <td>0</td>\n",
                            "    </tr>\n",
                            "    <tr>\n",
                            "      <th>2</th>\n",
                            "      <td>0</td>\n",
                            "      <td>0</td>\n",
                            "      <td>0</td>\n",
                            "      <td>13</td>\n",
                            "    </tr>\n",
                            "    <tr>\n",
                            "      <th>3</th>\n",
                            "      <td>0</td>\n",
                            "      <td>17</td>\n",
                            "      <td>0</td>\n",
                            "      <td>0</td>\n",
                            "    </tr>\n",
                            "  </tbody>\n",
                            "</table>\n",
                            "</div>"
                        ]
                    },
                    "output_type": "execute_result"
                }
            ],
            "execution_count": 10,
            "metadata": {
                "collapsed": false
            },
            "cell_type": "code",
            "source": [
                "ct"
            ]
        }
    ],
    "metadata": {
        "kernelspec": {
            "display_name": "Python [default]",
            "language": "python",
            "name": "python3"
        },
        "anaconda-cloud": {},
        "language_info": {
            "mimetype": "text/x-python",
            "pygments_lexer": "ipython3",
            "codemirror_mode": {
                "version": 3,
                "name": "ipython"
            },
            "nbconvert_exporter": "python",
            "file_extension": ".py",
            "version": "3.5.2",
            "name": "python"
        }
    },
    "nbformat": 4
}