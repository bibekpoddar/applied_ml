{
    "nbformat_minor": 2,
    "cells": [
        {
            "cell_type": "markdown",
            "source": [
                "# Exercise 9: Which stocks move together?\n",
                "\n",
                "In the previous exercise, you clustered companies by their daily stock price movements.  So which company have stock prices that tend to change in the same way?  Now inspect the cluster labels from your clustering to find out."
            ],
            "metadata": {}
        },
        {
            "cell_type": "markdown",
            "source": [
                "From the course _Transition to Data Science_. [Buy the entire course for just $10](https://www.udemy.com/transition-to-data-science-in-python/?couponCode=CLUSTER-NBS) for many more exercises and helpful video lectures."
            ],
            "metadata": {}
        },
        {
            "cell_type": "markdown",
            "source": [
                "**Step 1:** Load the data _(written for you)_."
            ],
            "metadata": {}
        },
        {
            "cell_type": "code",
            "source": [
                "import pandas as pd\n",
                "\n",
                "fn = '../datasets/company-stock-movements-2010-2015-incl.csv'\n",
                "stocks_df = pd.read_csv(fn, index_col=0)"
            ],
            "execution_count": null,
            "metadata": {
                "exercise": false,
                "collapsed": true
            },
            "outputs": []
        },
        {
            "cell_type": "markdown",
            "source": [
                "**Step 2:** Run your code from the previous exercise _(filled in for you)_."
            ],
            "metadata": {}
        },
        {
            "cell_type": "code",
            "source": [
                "companies = list(stocks_df.index)\n",
                "movements = stocks_df.values\n",
                "\n",
                "from sklearn.preprocessing import Normalizer\n",
                "from sklearn.cluster import KMeans\n",
                "from sklearn.pipeline import make_pipeline\n",
                "\n",
                "normalizer = Normalizer()\n",
                "kmeans = KMeans(n_clusters=14)\n",
                "pipeline = make_pipeline(normalizer, kmeans)\n",
                "pipeline.fit(movements)"
            ],
            "execution_count": null,
            "metadata": {
                "exercise": false,
                "collapsed": false
            },
            "outputs": []
        },
        {
            "cell_type": "markdown",
            "source": [
                "**Step 3:** Use the `.predict()` method of the pipeline to predict the labels for `movements`."
            ],
            "metadata": {}
        },
        {
            "cell_type": "code",
            "source": [],
            "execution_count": null,
            "metadata": {
                "collapsed": true
            },
            "outputs": []
        },
        {
            "cell_type": "markdown",
            "source": [
                "**Step 4:** Align the cluster labels with the list of company names `companies` by creating a DataFrame `df` with `labels` and `companies` as columns."
            ],
            "metadata": {}
        },
        {
            "cell_type": "code",
            "source": [],
            "execution_count": null,
            "metadata": {
                "collapsed": true
            },
            "outputs": []
        },
        {
            "cell_type": "markdown",
            "source": [
                "**Step 5:** Now display the DataFrame, sorted by cluster label.  To do this, use the `.sort_values()` method of `df` to sort the DataFrame by the `'labels'` column."
            ],
            "metadata": {}
        },
        {
            "cell_type": "code",
            "source": [],
            "execution_count": null,
            "metadata": {
                "collapsed": false
            },
            "outputs": []
        },
        {
            "cell_type": "markdown",
            "source": [
                "**Great job!** Using k-means, you've discovered which companies stock prices move together on the stock exchange."
            ],
            "metadata": {}
        },
        {
            "cell_type": "code",
            "source": [],
            "execution_count": null,
            "metadata": {
                "collapsed": true
            },
            "outputs": []
        }
    ],
    "metadata": {
        "language_info": {
            "pygments_lexer": "ipython3",
            "codemirror_mode": {
                "name": "ipython",
                "version": 3
            },
            "version": "3.5.2",
            "name": "python",
            "mimetype": "text/x-python",
            "nbconvert_exporter": "python",
            "file_extension": ".py"
        },
        "kernelspec": {
            "name": "python3",
            "display_name": "Python [default]",
            "language": "python"
        }
    },
    "nbformat": 4
}