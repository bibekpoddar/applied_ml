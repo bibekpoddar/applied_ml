{
    "nbformat": 4,
    "metadata": {
        "language_info": {
            "name": "python",
            "codemirror_mode": {
                "name": "ipython",
                "version": 3
            },
            "file_extension": ".py",
            "nbconvert_exporter": "python",
            "pygments_lexer": "ipython3",
            "mimetype": "text/x-python",
            "version": "3.5.2"
        },
        "kernelspec": {
            "name": "python3",
            "display_name": "Python [default]",
            "language": "python"
        }
    },
    "nbformat_minor": 1,
    "cells": [
        {
            "source": [
                "# Exercise 1: Looking for clusters visually"
            ],
            "cell_type": "markdown",
            "metadata": {}
        },
        {
            "source": [
                "From the course _Transition to Data Science_. [Buy the entire course for just $10](https://www.udemy.com/transition-to-data-science-in-python/?couponCode=CLUSTER-NBS) for many more exercises and helpful video lectures."
            ],
            "cell_type": "markdown",
            "metadata": {}
        },
        {
            "source": [
                "You are given an array `points` of size 300x2, where each row gives the (x, y) co-ordinates of a point on a map.  Make a scatter plot of these points, and use the scatter plot to guess how many clusters there are."
            ],
            "cell_type": "markdown",
            "metadata": {}
        },
        {
            "source": [
                "**Step 1:** Load the dataset _(written for you)_."
            ],
            "cell_type": "markdown",
            "metadata": {}
        },
        {
            "source": [
                "import pandas as pd\n",
                "\n",
                "df = pd.read_csv('../datasets/ch1ex1.csv')\n",
                "points = df.values"
            ],
            "execution_count": null,
            "outputs": [],
            "metadata": {
                "exercise": false,
                "collapsed": true
            },
            "cell_type": "code"
        },
        {
            "source": [
                "**Step 2:** Import PyPlot"
            ],
            "cell_type": "markdown",
            "metadata": {}
        },
        {
            "source": [],
            "execution_count": null,
            "outputs": [],
            "metadata": {
                "collapsed": true
            },
            "cell_type": "code"
        },
        {
            "source": [
                "**Step 3:** Create an array called `xs` that contains the values of `points[:,0]` - that is, column `0` of `points`:"
            ],
            "cell_type": "markdown",
            "metadata": {}
        },
        {
            "source": [],
            "execution_count": null,
            "outputs": [],
            "metadata": {
                "collapsed": true
            },
            "cell_type": "code"
        },
        {
            "source": [
                "**Step 3:** Create an array called `ys` that contains the values of `points[:,1]` - that is, column `1` of `points`"
            ],
            "cell_type": "markdown",
            "metadata": {}
        },
        {
            "source": [],
            "execution_count": null,
            "outputs": [],
            "metadata": {
                "collapsed": true
            },
            "cell_type": "code"
        },
        {
            "source": [
                "**Step 4:** Make a scatter plot by passing `xs` and `ys` to the `plt.scatter()` function."
            ],
            "cell_type": "markdown",
            "metadata": {}
        },
        {
            "source": [],
            "execution_count": null,
            "outputs": [],
            "metadata": {
                "collapsed": false
            },
            "cell_type": "code"
        },
        {
            "source": [
                "**Step 5:** Call the `plt.show()` function to show your plot."
            ],
            "cell_type": "markdown",
            "metadata": {}
        },
        {
            "source": [],
            "execution_count": null,
            "outputs": [],
            "metadata": {
                "collapsed": false
            },
            "cell_type": "code"
        }
    ]
}