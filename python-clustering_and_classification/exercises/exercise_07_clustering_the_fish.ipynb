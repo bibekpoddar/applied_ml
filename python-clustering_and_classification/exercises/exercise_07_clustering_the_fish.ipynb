{
    "cells": [
        {
            "source": [
                "# Exercise 7: Clustering the fish data\n",
                "\n",
                "Now use your standardization and clustering pipeline from the previous exercise to cluster the fish by their measurements, and then create a cross-tabulation to compare the cluster labels with the fish species."
            ],
            "cell_type": "markdown",
            "metadata": {}
        },
        {
            "cell_type": "markdown",
            "source": [
                "From the course _Transition to Data Science_. [Buy the entire course for just $10](https://www.udemy.com/transition-to-data-science-in-python/?couponCode=CLUSTER-NBS) for many more exercises and helpful video lectures."
            ],
            "metadata": {}
        },
        {
            "source": [
                "**Step 1:** Load the dataset, extracting the species of the fish as a list `species` _(done for you)_"
            ],
            "cell_type": "markdown",
            "metadata": {}
        },
        {
            "source": [
                "import pandas as pd\n",
                "\n",
                "df = pd.read_csv('../datasets/fish.csv')\n",
                "\n",
                "# remove the species from the DataFrame so only the measurements are left\n",
                "species = list(df['species'])\n",
                "del df['species']"
            ],
            "cell_type": "code",
            "metadata": {
                "collapsed": true,
                "exercise": false
            },
            "outputs": [],
            "execution_count": null
        },
        {
            "source": [
                "**Step 2:** Build the pipeline as in the previous exercise _(filled in for you)._"
            ],
            "cell_type": "markdown",
            "metadata": {}
        },
        {
            "source": [],
            "cell_type": "code",
            "metadata": {
                "collapsed": true
            },
            "outputs": [],
            "execution_count": null
        },
        {
            "source": [
                "**Step 3:** Fit the pipeline to the fish measurements `samples`."
            ],
            "cell_type": "markdown",
            "metadata": {}
        },
        {
            "source": [],
            "cell_type": "code",
            "metadata": {
                "collapsed": false
            },
            "outputs": [],
            "execution_count": null
        },
        {
            "source": [
                "**Step 4:** Obtain the cluster labels for `samples` by using the `.predict()` method of `pipeline`, assigning the result to `labels`."
            ],
            "cell_type": "markdown",
            "metadata": {}
        },
        {
            "source": [],
            "cell_type": "code",
            "metadata": {
                "collapsed": true
            },
            "outputs": [],
            "execution_count": null
        },
        {
            "source": [
                "**Step 5:** Using `pd.DataFrame()`, create a DataFrame `df` with two columns named `'labels'` and `'species'`, using `labels` and `species`, respectively, for the column values."
            ],
            "cell_type": "markdown",
            "metadata": {}
        },
        {
            "source": [],
            "cell_type": "code",
            "metadata": {
                "collapsed": true
            },
            "outputs": [],
            "execution_count": null
        },
        {
            "source": [
                "**Step 6:** Using `pd.crosstab()`, create a cross-tabulation `ct` of `df['labels']` and `df['species']`."
            ],
            "cell_type": "markdown",
            "metadata": {}
        },
        {
            "source": [],
            "cell_type": "code",
            "metadata": {
                "collapsed": true
            },
            "outputs": [],
            "execution_count": null
        },
        {
            "source": [
                "**Step 7:** Display your cross-tabulation, and check out how good your clustering is!"
            ],
            "cell_type": "markdown",
            "metadata": {}
        },
        {
            "source": [],
            "cell_type": "code",
            "metadata": {
                "collapsed": false
            },
            "outputs": [],
            "execution_count": null
        }
    ],
    "metadata": {
        "language_info": {
            "pygments_lexer": "ipython3",
            "mimetype": "text/x-python",
            "nbconvert_exporter": "python",
            "file_extension": ".py",
            "version": "3.5.2",
            "name": "python",
            "codemirror_mode": {
                "version": 3,
                "name": "ipython"
            }
        },
        "kernelspec": {
            "name": "python3",
            "display_name": "Python [default]",
            "language": "python"
        }
    },
    "nbformat": 4,
    "nbformat_minor": 2
}