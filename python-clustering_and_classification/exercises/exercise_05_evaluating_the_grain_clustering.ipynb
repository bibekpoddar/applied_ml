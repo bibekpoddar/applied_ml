{
    "cells": [
        {
            "source": [
                "# Exercise 5: Evaluating the grain clustering\n",
                "\n",
                "In the previous exercise, you observed from the inertia plot that 3 is a good number of clusters for the grain data.  In fact, the grain samples come from a mix of 3 different grain varieties: \"Kama\", \"Rosa\" and \"Canadian\".  In this exercise, cluster the grain samples into three clusters, and compare the clusters to the grain varieties using a cross-tabulation."
            ],
            "cell_type": "markdown",
            "metadata": {}
        },
        {
            "source": [
                "From the course _Transition to Data Science_. [Buy the entire course for just $10](https://www.udemy.com/transition-to-data-science-in-python/?couponCode=CLUSTER-NBS) for many more exercises and helpful video lectures."
            ],
            "cell_type": "markdown",
            "metadata": {}
        },
        {
            "source": [
                "**Step 1:** Load the dataset _(written for you)_.\n",
                "\n",
                "You have the array `samples` of grain samples, and a list `varieties` giving the grain variety for each sample."
            ],
            "cell_type": "markdown",
            "metadata": {}
        },
        {
            "execution_count": null,
            "source": [
                "import pandas as pd\n",
                "\n",
                "seeds_df = pd.read_csv('../datasets/seeds.csv')\n",
                "\n",
                "# extract the grain varieties from the dataframe\n",
                "varieties = list(seeds_df['grain_variety'])\n",
                "del seeds_df['grain_variety']\n",
                "\n",
                "samples = seeds_df.values"
            ],
            "outputs": [],
            "cell_type": "code",
            "metadata": {
                "exercise": false,
                "collapsed": true
            }
        },
        {
            "source": [
                "**Step 2:** Import KMeans"
            ],
            "cell_type": "markdown",
            "metadata": {}
        },
        {
            "execution_count": null,
            "source": [],
            "outputs": [],
            "cell_type": "code",
            "metadata": {
                "collapsed": true
            }
        },
        {
            "source": [
                "**Step 3:** Create a `KMeans` model called `model` with `3` clusters.\n"
            ],
            "cell_type": "markdown",
            "metadata": {}
        },
        {
            "execution_count": null,
            "source": [],
            "outputs": [],
            "cell_type": "code",
            "metadata": {
                "collapsed": true
            }
        },
        {
            "source": [
                "**Step 4:** Use the `.fit_predict()` method of `model` to fit it to `samples` and derive the cluster labels.\n",
                "\n",
                "Calling `.fit_predict()` is the same as calling `.fit()` and then calling `.predict()`."
            ],
            "cell_type": "markdown",
            "metadata": {}
        },
        {
            "execution_count": null,
            "source": [],
            "outputs": [],
            "cell_type": "code",
            "metadata": {
                "collapsed": true
            }
        },
        {
            "source": [
                "**Step 5:** Create a DataFrame `df` with two columns named `'labels'` and `'varieties'`, using `labels` and `varieties`, respectively, for the column values. _(This has been done for you.)_\n"
            ],
            "cell_type": "markdown",
            "metadata": {}
        },
        {
            "execution_count": null,
            "source": [],
            "outputs": [],
            "cell_type": "code",
            "metadata": {
                "collapsed": true
            }
        },
        {
            "source": [
                "**Step 6:** Use the `pd.crosstab()` function on `df['labels']` and `df['varieties']` to count the number of times each grain variety coincides with each cluster label. Assign the result to `ct`."
            ],
            "cell_type": "markdown",
            "metadata": {}
        },
        {
            "execution_count": null,
            "source": [],
            "outputs": [],
            "cell_type": "code",
            "metadata": {
                "collapsed": true
            }
        },
        {
            "source": [
                "**Step 7:** Display `ct` by evaluating it - and inspect your cross-tabulation!  You'll see that your clustering is pretty good."
            ],
            "cell_type": "markdown",
            "metadata": {}
        },
        {
            "execution_count": null,
            "source": [],
            "outputs": [],
            "cell_type": "code",
            "metadata": {
                "collapsed": false
            }
        }
    ],
    "nbformat": 4,
    "metadata": {
        "language_info": {
            "nbconvert_exporter": "python",
            "name": "python",
            "file_extension": ".py",
            "pygments_lexer": "ipython3",
            "version": "3.5.2",
            "mimetype": "text/x-python",
            "codemirror_mode": {
                "name": "ipython",
                "version": 3
            }
        },
        "kernelspec": {
            "name": "python3",
            "display_name": "Python [default]",
            "language": "python"
        }
    },
    "nbformat_minor": 2
}